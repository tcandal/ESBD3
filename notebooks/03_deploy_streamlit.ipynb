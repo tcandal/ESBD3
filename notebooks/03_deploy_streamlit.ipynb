{
 "cells": [
  {
   "cell_type": "markdown",
   "id": "0dd2f5d6",
   "metadata": {},
   "source": [
    "Deploy interativo"
   ]
  },
  {
   "cell_type": "code",
   "execution_count": 3,
   "id": "9f43dcf5",
   "metadata": {},
   "outputs": [
    {
     "name": "stderr",
     "output_type": "stream",
     "text": [
      "2025-07-18 20:25:48.481 Thread 'MainThread': missing ScriptRunContext! This warning can be ignored when running in bare mode.\n",
      "2025-07-18 20:25:48.500 Thread 'MainThread': missing ScriptRunContext! This warning can be ignored when running in bare mode.\n",
      "2025-07-18 20:25:48.511 Thread 'MainThread': missing ScriptRunContext! This warning can be ignored when running in bare mode.\n",
      "2025-07-18 20:25:48.511 Thread 'MainThread': missing ScriptRunContext! This warning can be ignored when running in bare mode.\n",
      "2025-07-18 20:25:48.536 Thread 'MainThread': missing ScriptRunContext! This warning can be ignored when running in bare mode.\n",
      "2025-07-18 20:25:48.545 Thread 'MainThread': missing ScriptRunContext! This warning can be ignored when running in bare mode.\n",
      "2025-07-18 20:25:48.551 Thread 'MainThread': missing ScriptRunContext! This warning can be ignored when running in bare mode.\n",
      "2025-07-18 20:25:48.551 Thread 'MainThread': missing ScriptRunContext! This warning can be ignored when running in bare mode.\n",
      "2025-07-18 20:25:48.566 Thread 'MainThread': missing ScriptRunContext! This warning can be ignored when running in bare mode.\n",
      "2025-07-18 20:25:48.577 Thread 'MainThread': missing ScriptRunContext! This warning can be ignored when running in bare mode.\n",
      "2025-07-18 20:25:48.585 Thread 'MainThread': missing ScriptRunContext! This warning can be ignored when running in bare mode.\n",
      "2025-07-18 20:25:48.720 Thread 'MainThread': missing ScriptRunContext! This warning can be ignored when running in bare mode.\n",
      "2025-07-18 20:25:48.735 Thread 'MainThread': missing ScriptRunContext! This warning can be ignored when running in bare mode.\n",
      "2025-07-18 20:25:48.735 Thread 'MainThread': missing ScriptRunContext! This warning can be ignored when running in bare mode.\n",
      "2025-07-18 20:25:48.740 Thread 'MainThread': missing ScriptRunContext! This warning can be ignored when running in bare mode.\n",
      "2025-07-18 20:25:48.751 Thread 'MainThread': missing ScriptRunContext! This warning can be ignored when running in bare mode.\n",
      "2025-07-18 20:25:48.751 Thread 'MainThread': missing ScriptRunContext! This warning can be ignored when running in bare mode.\n"
     ]
    }
   ],
   "source": [
    "import streamlit as st\n",
    "import joblib\n",
    "import os\n",
    "\n",
    "st.set_page_config(page_title=\"Análise de Sentimentos\", layout=\"centered\")\n",
    "st.header(\"Classificacão de Sentimentos de Tweets\")\n",
    "\n",
    "input_text = st.text_area(\"Digite o tweet para classificar:\", height=150)\n",
    "modelo_path = \"../model.joblib\"\n",
    "vectorizer_path = \"../vectorizer.joblib\"\n",
    "\n",
    "if not os.path.exists(modelo_path) or not os.path.exists(vectorizer_path):\n",
    "    st.error(\"Modelo ou vetor não encontrado. Certifique-se de que os arquivos estão no caminho correto.\")\n",
    "\n",
    "if os.path.exists(modelo_path) and os.path.exists(vectorizer_path):\n",
    "    model = joblib.load(modelo_path)\n",
    "    vectorizer = joblib.load(vectorizer_path)\n",
    "    if st.button(\"Classificar\"):\n",
    "        if input_text.strip():\n",
    "            texto_vector = vectorizer.transform([input_text])\n",
    "            pred = model.predict(texto_vector)[0]\n",
    "            st.success(f\"O sentimento do tweet é: {pred}\")\n",
    "        else:\n",
    "            st.warning(\"Por favor, insira um tweet para classificar.\")"
   ]
  }
 ],
 "metadata": {
  "kernelspec": {
   "display_name": ".venv",
   "language": "python",
   "name": "python3"
  },
  "language_info": {
   "codemirror_mode": {
    "name": "ipython",
    "version": 3
   },
   "file_extension": ".py",
   "mimetype": "text/x-python",
   "name": "python",
   "nbconvert_exporter": "python",
   "pygments_lexer": "ipython3",
   "version": "3.11.0"
  }
 },
 "nbformat": 4,
 "nbformat_minor": 5
}
