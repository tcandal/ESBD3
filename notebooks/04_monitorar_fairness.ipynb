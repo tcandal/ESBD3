{
 "cells": [
  {
   "cell_type": "markdown",
   "id": "0ed77dd4",
   "metadata": {},
   "source": [
    "Monitorar o fairness"
   ]
  },
  {
   "cell_type": "code",
   "execution_count": 55,
   "id": "9cd3569e",
   "metadata": {},
   "outputs": [],
   "source": [
    "import pandas as pd\n",
    "import joblib\n",
    "import os\n",
    "from sklearn.metrics import classification_report, confusion_matrix\n",
    "import matplotlib.pyplot as plt\n",
    "import seaborn as sns"
   ]
  },
  {
   "cell_type": "markdown",
   "id": "ade1874d",
   "metadata": {},
   "source": [
    "Carregar modelo e vetor ja treinados"
   ]
  },
  {
   "cell_type": "code",
   "execution_count": 56,
   "id": "ae2abc83",
   "metadata": {},
   "outputs": [
    {
     "data": {
      "text/html": [
       "<div>\n",
       "<style scoped>\n",
       "    .dataframe tbody tr th:only-of-type {\n",
       "        vertical-align: middle;\n",
       "    }\n",
       "\n",
       "    .dataframe tbody tr th {\n",
       "        vertical-align: top;\n",
       "    }\n",
       "\n",
       "    .dataframe thead th {\n",
       "        text-align: right;\n",
       "    }\n",
       "</style>\n",
       "<table border=\"1\" class=\"dataframe\">\n",
       "  <thead>\n",
       "    <tr style=\"text-align: right;\">\n",
       "      <th></th>\n",
       "      <th>text</th>\n",
       "      <th>label</th>\n",
       "      <th>text_lenght</th>\n",
       "    </tr>\n",
       "  </thead>\n",
       "  <tbody>\n",
       "    <tr>\n",
       "      <th>0</th>\n",
       "      <td>O produto e bom.</td>\n",
       "      <td>positivo</td>\n",
       "      <td>16</td>\n",
       "    </tr>\n",
       "    <tr>\n",
       "      <th>1</th>\n",
       "      <td>O produto e ruim.</td>\n",
       "      <td>negativo</td>\n",
       "      <td>17</td>\n",
       "    </tr>\n",
       "    <tr>\n",
       "      <th>2</th>\n",
       "      <td>Entrega rapida.</td>\n",
       "      <td>positivo</td>\n",
       "      <td>15</td>\n",
       "    </tr>\n",
       "    <tr>\n",
       "      <th>3</th>\n",
       "      <td>Produto chegou danificado.</td>\n",
       "      <td>negativo</td>\n",
       "      <td>26</td>\n",
       "    </tr>\n",
       "    <tr>\n",
       "      <th>4</th>\n",
       "      <td>Muito bom!</td>\n",
       "      <td>positivo</td>\n",
       "      <td>10</td>\n",
       "    </tr>\n",
       "  </tbody>\n",
       "</table>\n",
       "</div>"
      ],
      "text/plain": [
       "                         text     label  text_lenght\n",
       "0            O produto e bom.  positivo           16\n",
       "1           O produto e ruim.  negativo           17\n",
       "2             Entrega rapida.  positivo           15\n",
       "3  Produto chegou danificado.  negativo           26\n",
       "4                  Muito bom!  positivo           10"
      ]
     },
     "metadata": {},
     "output_type": "display_data"
    }
   ],
   "source": [
    "modelo_path = \"../model.joblib\"\n",
    "vectorizer_path = \"../vectorizer.joblib\"\n",
    "dados_path = \"../data/tweets_limpo.csv\"\n",
    "\n",
    "if not (os.path.exists(modelo_path)) and not (os.path.exists(vectorizer_path)):\n",
    "    raise FileNotFoundError(\"Modelo ou vetor não encontrados. Certifique-se de que foram salvos corretamente.\")\n",
    "\n",
    "model = joblib.load(modelo_path)\n",
    "vectorizer = joblib.load(vectorizer_path)\n",
    "df = pd.read_csv(dados_path)\n",
    "display(df.head())"
   ]
  },
  {
   "cell_type": "markdown",
   "id": "516a282f",
   "metadata": {},
   "source": [
    "Monitoramento"
   ]
  },
  {
   "cell_type": "code",
   "execution_count": 57,
   "id": "96a8a86f",
   "metadata": {},
   "outputs": [],
   "source": [
    "novos_textos = [\n",
    "    'Muito ruim.',\n",
    "    'Nao gostei.',\n",
    "    'Muito bom.',\n",
    "    'Gostei muito.'\n",
    "]\n",
    "\n",
    "novos_df = pd.DataFrame({'text': novos_textos})"
   ]
  },
  {
   "cell_type": "markdown",
   "id": "78463a7a",
   "metadata": {},
   "source": [
    "Vetorizar e predicao"
   ]
  },
  {
   "cell_type": "code",
   "execution_count": 58,
   "id": "e991f568",
   "metadata": {},
   "outputs": [
    {
     "name": "stdout",
     "output_type": "stream",
     "text": [
      "            text  predicao\n",
      "0    Muito ruim.  negativo\n",
      "1    Nao gostei.  negativo\n",
      "2     Muito bom.  positivo\n",
      "3  Gostei muito.  negativo\n"
     ]
    }
   ],
   "source": [
    "novos_vetores = vectorizer.transform(novos_df['text'])\n",
    "novos_preds = model.predict(novos_vetores)\n",
    "novos_df['predicao'] = novos_preds\n",
    "print(novos_df)"
   ]
  },
  {
   "cell_type": "markdown",
   "id": "a2875175",
   "metadata": {},
   "source": [
    "Porcentagem de cada classe"
   ]
  },
  {
   "cell_type": "code",
   "execution_count": 59,
   "id": "e74598a5",
   "metadata": {},
   "outputs": [
    {
     "name": "stdout",
     "output_type": "stream",
     "text": [
      "Porcentagem de cada classe:\n",
      "predicao\n",
      "negativo    0.75\n",
      "positivo    0.25\n",
      "Name: proportion, dtype: float64\n"
     ]
    }
   ],
   "source": [
    "class_dist = novos_df['predicao'].value_counts(normalize=True)\n",
    "print(\"Porcentagem de cada classe:\")\n",
    "print(class_dist)"
   ]
  },
  {
   "cell_type": "markdown",
   "id": "c0fffddf",
   "metadata": {},
   "source": [
    "Fairness - Vieses"
   ]
  },
  {
   "cell_type": "code",
   "execution_count": 60,
   "id": "75aaecab",
   "metadata": {},
   "outputs": [
    {
     "data": {
      "text/plain": [
       "0      curto\n",
       "1      curto\n",
       "2      curto\n",
       "3      curto\n",
       "4      curto\n",
       "5      curto\n",
       "6      curto\n",
       "7      curto\n",
       "8      curto\n",
       "9      curto\n",
       "10     curto\n",
       "11     curto\n",
       "12     medio\n",
       "13     curto\n",
       "14     curto\n",
       "15     curto\n",
       "16     curto\n",
       "17     curto\n",
       "18     medio\n",
       "19     curto\n",
       "20    grande\n",
       "21    grande\n",
       "Name: len_category, dtype: category\n",
       "Categories (4, object): ['curto' < 'medio' < 'grande' < 'textao']"
      ]
     },
     "metadata": {},
     "output_type": "display_data"
    }
   ],
   "source": [
    "df['text_len'] = df['text'].apply(len)\n",
    "df['len_category'] = pd.cut(df['text_len'], bins=[0, 40, 100, 200, 1000], labels=['curto', 'medio', 'grande', 'textao'])\n",
    "display(df['len_category'])"
   ]
  },
  {
   "cell_type": "markdown",
   "id": "adeba77f",
   "metadata": {},
   "source": [
    "Predicoes de validacao"
   ]
  },
  {
   "cell_type": "code",
   "execution_count": 61,
   "id": "62cb2fc9",
   "metadata": {},
   "outputs": [
    {
     "data": {
      "text/plain": [
       "0     positivo\n",
       "1     negativo\n",
       "2     positivo\n",
       "3     negativo\n",
       "4     positivo\n",
       "5       neutro\n",
       "6     negativo\n",
       "7     positivo\n",
       "8     negativo\n",
       "9     positivo\n",
       "10    negativo\n",
       "11    positivo\n",
       "12    negativo\n",
       "13    negativo\n",
       "14    negativo\n",
       "15    negativo\n",
       "16    negativo\n",
       "17    negativo\n",
       "18      neutro\n",
       "19      neutro\n",
       "20      neutro\n",
       "21      neutro\n",
       "Name: pred, dtype: object"
      ]
     },
     "metadata": {},
     "output_type": "display_data"
    }
   ],
   "source": [
    "vetores = vectorizer.transform(df['text'])\n",
    "df['pred'] = model.predict(vetores)\n",
    "display(df['pred'])"
   ]
  },
  {
   "cell_type": "markdown",
   "id": "c5385545",
   "metadata": {},
   "source": [
    "Avaliacao da acuracia"
   ]
  },
  {
   "cell_type": "code",
   "execution_count": 62,
   "id": "cac1bd8a",
   "metadata": {},
   "outputs": [
    {
     "name": "stdout",
     "output_type": "stream",
     "text": [
      "Acuracia curto: 0.89 (N=18)\n",
      "Acuracia medio: 1.00 (N=2)\n",
      "Acuracia grande: 1.00 (N=2)\n"
     ]
    }
   ],
   "source": [
    "for cat in df['len_category'].unique():\n",
    "    subset = df[df['len_category'] == cat]\n",
    "    if not subset.empty:\n",
    "        acuracia = (subset['label'] == subset['pred']).mean()\n",
    "        print(f\"Acuracia {cat}: {acuracia:.2f} (N={len(subset)})\")"
   ]
  },
  {
   "cell_type": "markdown",
   "id": "71d8ae9a",
   "metadata": {},
   "source": [
    "Desafio fairness"
   ]
  },
  {
   "cell_type": "code",
   "execution_count": 63,
   "id": "3292bd69",
   "metadata": {},
   "outputs": [
    {
     "name": "stdout",
     "output_type": "stream",
     "text": [
      "Matriz de confusao para textos curto:\n",
      "[[8 0 0]\n",
      " [0 2 0]\n",
      " [2 0 6]]\n"
     ]
    },
    {
     "data": {
      "image/png": "[encoded data removed]",
      "text/plain": [
       "<Figure size 640x480 with 2 Axes>"
      ]
     },
     "metadata": {},
     "output_type": "display_data"
    },
    {
     "name": "stdout",
     "output_type": "stream",
     "text": [
      "Matriz de confusao para textos medio:\n",
      "[[1 0]\n",
      " [0 1]]\n"
     ]
    },
    {
     "data": {
      "image/png": "[encoded data removed]",
      "text/plain": [
       "<Figure size 640x480 with 2 Axes>"
      ]
     },
     "metadata": {},
     "output_type": "display_data"
    },
    {
     "name": "stdout",
     "output_type": "stream",
     "text": [
      "Matriz de confusao para textos grande:\n",
      "[[2]]\n"
     ]
    },
    {
     "name": "stderr",
     "output_type": "stream",
     "text": [
      "c:\\Users\\Douglas Sousa\\Documents\\Pipeline_ESBD3\\.venv\\Lib\\site-packages\\sklearn\\metrics\\_classification.py:534: UserWarning: A single label was found in 'y_true' and 'y_pred'. For the confusion matrix to have the correct shape, use the 'labels' parameter to pass all known labels.\n",
      "  warnings.warn(\n",
      "c:\\Users\\Douglas Sousa\\Documents\\Pipeline_ESBD3\\.venv\\Lib\\site-packages\\sklearn\\metrics\\_classification.py:534: UserWarning: A single label was found in 'y_true' and 'y_pred'. For the confusion matrix to have the correct shape, use the 'labels' parameter to pass all known labels.\n",
      "  warnings.warn(\n"
     ]
    },
    {
     "data": {
      "image/png": "[encoded data removed]",
      "text/plain": [
       "<Figure size 640x480 with 2 Axes>"
      ]
     },
     "metadata": {},
     "output_type": "display_data"
    }
   ],
   "source": [
    "for cat in df['len_category'].unique():\n",
    "    subset = df[df['len_category'] == cat]\n",
    "    if not subset.empty:\n",
    "        print(f\"Matriz de confusao para textos {cat}:\")\n",
    "        print(confusion_matrix(subset['label'], subset['pred']))\n",
    "        sns.heatmap(confusion_matrix(subset['label'], subset['pred']), \n",
    "                    annot=True, fmt='d', cmap='Blues', \n",
    "                    xticklabels=['positivo', 'neutro','negativo'], \n",
    "                    yticklabels=['positivo', 'neutro','negativo']\n",
    "                    )\n",
    "        plt.title(f'Textos - {cat}')\n",
    "        plt.xlabel('Predição')\n",
    "        plt.ylabel('Real')\n",
    "        plt.show()"
   ]
  }
 ],
 "metadata": {
  "kernelspec": {
   "display_name": ".venv",
   "language": "python",
   "name": "python3"
  },
  "language_info": {
   "codemirror_mode": {
    "name": "ipython",
    "version": 3
   },
   "file_extension": ".py",
   "mimetype": "text/x-python",
   "name": "python",
   "nbconvert_exporter": "python",
   "pygments_lexer": "ipython3",
   "version": "3.11.0"
  }
 },
 "nbformat": 4,
 "nbformat_minor": 5
}
